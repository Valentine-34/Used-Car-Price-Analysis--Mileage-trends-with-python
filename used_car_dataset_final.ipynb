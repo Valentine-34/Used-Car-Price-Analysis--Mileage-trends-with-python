{
 "cells": [
  {
   "cell_type": "markdown",
   "id": "070b1bc5",
   "metadata": {},
   "source": [
    "### CLEANING AND ANALYZING THE 'USED CARS' DATASET\n"
   ]
  },
  {
   "cell_type": "code",
   "execution_count": 1,
   "id": "fc6a7f3c",
   "metadata": {},
   "outputs": [
    {
     "name": "stdout",
     "output_type": "stream",
     "text": [
      "       ID  pricesold  yearsold zipcode  Mileage               Make  \\\n",
      "0  137178       7500      2020   786**    84430               Ford   \n",
      "1   96705      15000      2019   81006        0  Replica/Kit Makes   \n",
      "2  119660       8750      2020   33449    55000             Jaguar   \n",
      "3   80773      11600      2019   07852    97200               Ford   \n",
      "4   64287      44000      2019   07728    40703            Porsche   \n",
      "\n",
      "                Model  Year           Trim                   Engine  \\\n",
      "0             Mustang  1988             LX              5.0L Gas V8   \n",
      "1  Jaguar Beck Lister  1958            NaN        383 Fuel injected   \n",
      "2                 XJS  1995  2+2 Cabriolet  4.0L In-Line 6 Cylinder   \n",
      "3             Mustang  1968          Stock           289 cu. in. V8   \n",
      "4                 911  2002     Turbo X-50                     3.6L   \n",
      "\n",
      "      BodyType  NumCylinders DriveType  \n",
      "0        Sedan             0       RWD  \n",
      "1  Convertible             8       RWD  \n",
      "2  Convertible             6       RWD  \n",
      "3        Coupe             8       RWD  \n",
      "4        Coupe             6       AWD  \n"
     ]
    }
   ],
   "source": [
    "#importing necessary libraries\n",
    "import numpy as np\n",
    "import pandas as pd\n",
    "import matplotlib.pyplot as plt \n",
    "\n",
    "\n",
    "#loading the dataset\n",
    "used_cars_ii = pd.read_csv('used_car_sales.csv')\n",
    "\n",
    "\n",
    "#checking first few rows (only 5)\n",
    "print(used_cars_ii.head(5))"
   ]
  },
  {
   "cell_type": "code",
   "execution_count": 2,
   "id": "f3e21b74",
   "metadata": {},
   "outputs": [
    {
     "name": "stdout",
     "output_type": "stream",
     "text": [
      "Index(['ID', 'pricesold', 'yearsold', 'zipcode', 'Mileage', 'Make', 'Model',\n",
      "       'Year', 'Trim', 'Engine', 'BodyType', 'NumCylinders', 'DriveType'],\n",
      "      dtype='object')\n"
     ]
    }
   ],
   "source": [
    "#checking columns and column names\n",
    "\n",
    "print(used_cars_ii.columns)"
   ]
  },
  {
   "cell_type": "code",
   "execution_count": 3,
   "id": "0308052b",
   "metadata": {},
   "outputs": [
    {
     "name": "stdout",
     "output_type": "stream",
     "text": [
      "<class 'pandas.core.frame.DataFrame'>\n",
      "RangeIndex: 122144 entries, 0 to 122143\n",
      "Data columns (total 13 columns):\n",
      " #   Column        Non-Null Count   Dtype \n",
      "---  ------        --------------   ----- \n",
      " 0   ID            122144 non-null  int64 \n",
      " 1   pricesold     122144 non-null  int64 \n",
      " 2   yearsold      122144 non-null  int64 \n",
      " 3   zipcode       121235 non-null  object\n",
      " 4   Mileage       122144 non-null  int64 \n",
      " 5   Make          122144 non-null  object\n",
      " 6   Model         121571 non-null  object\n",
      " 7   Year          122144 non-null  int64 \n",
      " 8   Trim          73220 non-null   object\n",
      " 9   Engine        95046 non-null   object\n",
      " 10  BodyType      101358 non-null  object\n",
      " 11  NumCylinders  122144 non-null  int64 \n",
      " 12  DriveType     97293 non-null   object\n",
      "dtypes: int64(6), object(7)\n",
      "memory usage: 12.1+ MB\n",
      "None\n"
     ]
    }
   ],
   "source": [
    "#getting me insight about what datatypes there are in each column\n",
    "\n",
    "print(used_cars_ii.info())"
   ]
  },
  {
   "cell_type": "code",
   "execution_count": 4,
   "id": "40275308",
   "metadata": {},
   "outputs": [
    {
     "name": "stdout",
     "output_type": "stream",
     "text": [
      "(122144, 13)\n"
     ]
    }
   ],
   "source": [
    "#checking the shape of the dataframe\n",
    "\n",
    "print(used_cars_ii.shape)"
   ]
  },
  {
   "cell_type": "code",
   "execution_count": 18,
   "id": "0c1337f8",
   "metadata": {},
   "outputs": [
    {
     "name": "stdout",
     "output_type": "stream",
     "text": [
      "0\n"
     ]
    }
   ],
   "source": [
    "#checking for duplicates\n",
    "\n",
    "print(used_cars_ii.duplicated().sum())"
   ]
  },
  {
   "cell_type": "code",
   "execution_count": 6,
   "id": "94b7b76c",
   "metadata": {},
   "outputs": [
    {
     "name": "stdout",
     "output_type": "stream",
     "text": [
      "ID              122144\n",
      "pricesold         4424\n",
      "yearsold             3\n",
      "zipcode          15482\n",
      "Mileage          60843\n",
      "Make               464\n",
      "Model             4289\n",
      "Year               148\n",
      "Trim             24981\n",
      "Engine           22399\n",
      "BodyType          2329\n",
      "NumCylinders        17\n",
      "DriveType         2814\n",
      "dtype: int64\n"
     ]
    }
   ],
   "source": [
    "#checking to see if all rows have unique values\n",
    "\n",
    "print(used_cars_ii.nunique())"
   ]
  },
  {
   "cell_type": "markdown",
   "id": "78abdf6d",
   "metadata": {},
   "source": [
    "### from the results above, it could be said that some of the columns do not have unique values \n",
    "### because the dataset has a 1000 plus different rows and if all rows do not have a 1000 plus \n",
    "### unique values, then there might be null values or missing dataset and/or repeated values. "
   ]
  },
  {
   "cell_type": "code",
   "execution_count": 7,
   "id": "42bf11fa",
   "metadata": {},
   "outputs": [
    {
     "name": "stdout",
     "output_type": "stream",
     "text": [
      "ID                  0\n",
      "pricesold           0\n",
      "yearsold            0\n",
      "zipcode           909\n",
      "Mileage             0\n",
      "Make                0\n",
      "Model             573\n",
      "Year                0\n",
      "Trim            48924\n",
      "Engine          27098\n",
      "BodyType        20786\n",
      "NumCylinders        0\n",
      "DriveType       24851\n",
      "dtype: int64\n"
     ]
    }
   ],
   "source": [
    "\n",
    "#checking for NaN/null\n",
    "\n",
    "print(used_cars_ii.isna().sum())"
   ]
  },
  {
   "cell_type": "code",
   "execution_count": 8,
   "id": "d08dce33",
   "metadata": {},
   "outputs": [
    {
     "name": "stdout",
     "output_type": "stream",
     "text": [
      "None\n"
     ]
    }
   ],
   "source": [
    "#dropping NaN\n",
    "\n",
    "print(used_cars_ii.dropna(inplace = True))"
   ]
  },
  {
   "cell_type": "code",
   "execution_count": 9,
   "id": "32652ee6",
   "metadata": {},
   "outputs": [
    {
     "name": "stdout",
     "output_type": "stream",
     "text": [
      "ID              0\n",
      "pricesold       0\n",
      "yearsold        0\n",
      "zipcode         0\n",
      "Mileage         0\n",
      "Make            0\n",
      "Model           0\n",
      "Year            0\n",
      "Trim            0\n",
      "Engine          0\n",
      "BodyType        0\n",
      "NumCylinders    0\n",
      "DriveType       0\n",
      "dtype: int64\n"
     ]
    }
   ],
   "source": [
    "print(used_cars_ii.isna().sum())"
   ]
  },
  {
   "cell_type": "markdown",
   "id": "f28b32ac",
   "metadata": {},
   "source": [
    "### Per the result above, There are zero NaN in the dataset now. "
   ]
  },
  {
   "cell_type": "code",
   "execution_count": 10,
   "id": "5b290ed0",
   "metadata": {},
   "outputs": [
    {
     "name": "stdout",
     "output_type": "stream",
     "text": [
      "            ID  pricesold  yearsold zipcode  Mileage     Make          Model  \\\n",
      "0       137178       7500      2020   786**    84430     Ford        Mustang   \n",
      "2       119660       8750      2020   33449    55000   Jaguar            XJS   \n",
      "3        80773      11600      2019   07852    97200     Ford        Mustang   \n",
      "4        64287      44000      2019   07728    40703  Porsche            911   \n",
      "10      158271      20000      2020   333**    51674     Jeep       Wrangler   \n",
      "...        ...        ...       ...     ...      ...      ...            ...   \n",
      "122131   42098       3400      2019   97031   247000   Toyota          Camry   \n",
      "122133   10511       3500      2019   94952    61413    Dodge  Other Pickups   \n",
      "122135   87007       6700      2019   95407    76413     Ford         Bronco   \n",
      "122142   29096       2280      2019   92131   164337      BMW       3-Series   \n",
      "122143   52391       5000      2019   18951   163111   Nissan          300ZX   \n",
      "\n",
      "        Year                  Trim                   Engine     BodyType  \\\n",
      "0       1988                    LX              5.0L Gas V8        Sedan   \n",
      "2       1995         2+2 Cabriolet  4.0L In-Line 6 Cylinder  Convertible   \n",
      "3       1968                 Stock           289 cu. in. V8        Coupe   \n",
      "4       2002            Turbo X-50                     3.6L        Coupe   \n",
      "10      2015                 SPORT         3.6L Flexible V6          SUV   \n",
      "...      ...                   ...                      ...          ...   \n",
      "122131  2002         Sport Edition                      2.4     Mid-Size   \n",
      "122133  1966  Custom Sport Special                      440       Pickup   \n",
      "122135  1979                Custom                   400 V8          SUV   \n",
      "122142  2000                 328ci               M52TU 2.8L        Coupe   \n",
      "122143  1990            Twin Turbo                 VG30DETT        Coupe   \n",
      "\n",
      "        NumCylinders DriveType  \n",
      "0                  0       RWD  \n",
      "2                  6       RWD  \n",
      "3                  8       RWD  \n",
      "4                  6       AWD  \n",
      "10                 6       4WD  \n",
      "...              ...       ...  \n",
      "122131             4       FWD  \n",
      "122133             8       RWD  \n",
      "122135             8       4WD  \n",
      "122142             6       RWD  \n",
      "122143             6       RWD  \n",
      "\n",
      "[60290 rows x 13 columns]\n"
     ]
    }
   ],
   "source": [
    "print(used_cars_ii)"
   ]
  },
  {
   "cell_type": "markdown",
   "id": "17cc5ac5",
   "metadata": {},
   "source": [
    "### Per the results above, the zipcode column still looks messy, \n",
    "### we could try and clean it but per the business questions, that column is not needed\n",
    "### we will go ahead and drop the whole column. "
   ]
  },
  {
   "cell_type": "code",
   "execution_count": 11,
   "id": "0630b837",
   "metadata": {},
   "outputs": [
    {
     "name": "stdout",
     "output_type": "stream",
     "text": [
      "None\n"
     ]
    }
   ],
   "source": [
    "\n",
    "#dropping the 'zipcode' column\n",
    "\n",
    "print(used_cars_ii.drop('zipcode', axis = 1, inplace = True))"
   ]
  },
  {
   "cell_type": "code",
   "execution_count": 12,
   "id": "5e57bf43",
   "metadata": {},
   "outputs": [
    {
     "name": "stdout",
     "output_type": "stream",
     "text": [
      "[    1988     1995     1968     2002     2015     2012     2004     1978\n",
      "     2009     2006     2003     2016     1957     2010     1987     1992\n",
      "     1991     1984     1966     1989     1931     1970     1997     1967\n",
      "     1985     1973     1983     1977     2000     1993     1999     1979\n",
      "     1971     1956     2011     1952     1937     2001     2007     2005\n",
      "     1929     2008     1996     1969     2013     1994     1964     1963\n",
      "     2017     1959     1998     1980     1972     1960     1949     1976\n",
      "     1932     1975     1947     1940     1958     1965     1934     1936\n",
      "     1986     1982     2018     2019     2014     1962     1990     1951\n",
      "     1953     1961     1974     1981     2020     1941     1939     1950\n",
      "     1946     1955     1954     1920     1930     1948     1926     1928\n",
      "     1944     1924     1927     1942 20130000        0     1922     1925\n",
      " 20140000     1935     1923     1921     1917     1885     1933     1900\n",
      "     1938     1858     1915     1914       99     1903     1945     1913\n",
      "     1919 19930000       68     1901 20050000]\n"
     ]
    }
   ],
   "source": [
    "#more exploration of the dataset (the 'year' column)\n",
    "\n",
    "print(used_cars_ii['Year'].unique())"
   ]
  },
  {
   "cell_type": "markdown",
   "id": "e1080719",
   "metadata": {},
   "source": [
    "### From the results above, it looks like the 'Year' columns needs \n",
    "### some more cleaning."
   ]
  },
  {
   "cell_type": "code",
   "execution_count": 13,
   "id": "c44220d0",
   "metadata": {},
   "outputs": [
    {
     "name": "stdout",
     "output_type": "stream",
     "text": [
      "[1988 1995 1968 2002 2015 2012 2004 1978 2009 2006 2003 2016 1957 2010\n",
      " 1987 1992 1991 1984 1966 1989 1931 1970 1997 1967 1985 1973 1983 1977\n",
      " 2000 1993 1999 1979 1971 1956 2011 1952 1937 2001 2007 2005 1929 2008\n",
      " 1996 1969 2013 1994 1964 1963 2017 1959 1998 1980 1972 1960 1949 1976\n",
      " 1932 1975 1947 1940 1958 1965 1934 1936 1986 1982 2018 2019 2014 1962\n",
      " 1990 1951 1953 1961 1974 1981 2020 1941 1939 1950 1946 1955 1954 1920\n",
      " 1930 1948 1926 1928 1944 1924 1927 1942 1922 1925 1935 1923 1921 1917\n",
      " 1885 1933 1900 1938 1858 1915 1914 1903 1945 1913 1919 1901]\n"
     ]
    }
   ],
   "source": [
    "\n",
    "#converting the year column from int to str for easier cleaning. \n",
    "used_cars_ii['Year'] = used_cars_ii['Year'].astype(str)\n",
    "\n",
    "\n",
    "#removing the years with unnecesarry zeros behind them\n",
    "used_cars_ii = used_cars_ii[~used_cars_ii['Year'].str.endswith('0000')]\n",
    "\n",
    "\n",
    "#removing double digit dates and '0' \n",
    "to_dropp = ['0', '68', '99']\n",
    "used_cars_ii.drop(used_cars_ii[used_cars_ii['Year'].isin(to_dropp)].index, inplace= True)\n",
    "\n",
    "\n",
    "#converting the year column back to int\n",
    "used_cars_ii['Year'] = used_cars_ii['Year'].astype(int)\n",
    "\n",
    "#final check\n",
    "print(used_cars_ii['Year'].unique())\n"
   ]
  },
  {
   "cell_type": "code",
   "execution_count": 14,
   "id": "ea48df00",
   "metadata": {},
   "outputs": [
    {
     "name": "stdout",
     "output_type": "stream",
     "text": [
      "        ID  pricesold  yearsold  Mileage           Make     Model  Year  \\\n",
      "0   137178       7500      2020    84430           Ford   Mustang  1988   \n",
      "2   119660       8750      2020    55000         Jaguar       XJS  1995   \n",
      "3    80773      11600      2019    97200           Ford   Mustang  1968   \n",
      "4    64287      44000      2019    40703        Porsche       911  2002   \n",
      "10  158271      20000      2020    51674           Jeep  Wrangler  2015   \n",
      "11   72418      14100      2019   109500           Jeep  Wrangler  2012   \n",
      "16  144540       3330      2020    47692          Buick   LeSabre  2004   \n",
      "19   59728      18550      2019     6714      Chevrolet    Camaro  2002   \n",
      "21   74812       4750      2019   151361           Ford     F-250  1978   \n",
      "22   78263       3050      2020    95600         Nissan    Maxima  2004   \n",
      "23   78272       4050      2020   100427         Nissan    Altima  2009   \n",
      "28   77898       3500      2019   144868          Honda      CR-V  2006   \n",
      "34    8978       4600      2019   180000  Mercedes-Benz   S-Class  2003   \n",
      "42   76801      24600      2019       50      Chevrolet      Nova  1968   \n",
      "43   45861      45400      2019     2357           Ford   Mustang  2016   \n",
      "\n",
      "                 Trim                        Engine             BodyType  \\\n",
      "0                  LX                   5.0L Gas V8                Sedan   \n",
      "2       2+2 Cabriolet       4.0L In-Line 6 Cylinder          Convertible   \n",
      "3               Stock                289 cu. in. V8                Coupe   \n",
      "4          Turbo X-50                          3.6L                Coupe   \n",
      "10              SPORT              3.6L Flexible V6                  SUV   \n",
      "11          Unlimited                          3.6L                  SUV   \n",
      "16             CUSTOM                   3.8L Gas V6                Sedan   \n",
      "19         Z28,SS,SLP                  5.7 liter v8                Coupe   \n",
      "21         Ranger XLT                           460  Standard Cab Pickup   \n",
      "22                 SE                          3.5L                Sedan   \n",
      "23             Hybrid                     2.5L DOHC                Sedan   \n",
      "28                 LX                    2.4L VTECH                  SUV   \n",
      "34            S55 AMG  m1135 5.4 Liter Supercharged                Sedan   \n",
      "42  Pro Street 540BBC                       540 BBC                Coupe   \n",
      "43              Roush             5.0L Supercharged                Coupe   \n",
      "\n",
      "    NumCylinders DriveType  \n",
      "0              0       RWD  \n",
      "2              6       RWD  \n",
      "3              8       RWD  \n",
      "4              6       AWD  \n",
      "10             6       4WD  \n",
      "11             6       4WD  \n",
      "16             6       FWD  \n",
      "19             8       RWD  \n",
      "21             8       RWD  \n",
      "22             6       FWD  \n",
      "23             4       FWD  \n",
      "28             4       FWD  \n",
      "34             8       RWD  \n",
      "42             8       RWD  \n",
      "43             8       RWD  \n"
     ]
    }
   ],
   "source": [
    "#final look at the clean dataset\n",
    "print(used_cars_ii.head(15))"
   ]
  },
  {
   "cell_type": "markdown",
   "id": "99141f0d",
   "metadata": {},
   "source": [
    "\n",
    "\n",
    "# BUSINESS QUESTIONS\n",
    "\n",
    "### Question 1: How has the average sale price changed over the years? (2018-2020)?\n",
    "### Question 2: Is there a correlation between mileage and sale price for specific vehicle types or makes?"
   ]
  },
  {
   "cell_type": "markdown",
   "id": "acf3d0c2",
   "metadata": {},
   "source": [
    "\n",
    "\n",
    "\n",
    "# ANSWER FOR QUESTION 1"
   ]
  },
  {
   "cell_type": "code",
   "execution_count": 15,
   "id": "af522e74",
   "metadata": {},
   "outputs": [
    {
     "name": "stdout",
     "output_type": "stream",
     "text": [
      "<function show at 0x000002A3F99235E0>\n"
     ]
    },
    {
     "data": {
      "image/png": "[encoded data removed]",
      "text/plain": [
       "<Figure size 640x480 with 1 Axes>"
      ]
     },
     "metadata": {},
     "output_type": "display_data"
    }
   ],
   "source": [
    "#creating a figure and its associated axis for plotting\n",
    "fig, ax = plt.subplots()\n",
    "\n",
    "#grouping by 'year sold'  and calculating the mean sale price for each year\n",
    "yearly_avg_p = used_cars_ii.groupby('yearsold')['pricesold'].mean()\n",
    "\n",
    "#plotting the data\n",
    "plt.plot(yearly_avg_p.index, yearly_avg_p.values)\n",
    "plt.title('Average Sale Price Over Years (2018-2020)')\n",
    "plt.xlabel('Years')\n",
    "plt.ylabel('Average Sale Price')\n",
    "plt.xticks(yearly_avg_p.index)\n",
    "plt.xticks(rotation = 45)\n",
    "print(plt.show)\n",
    "\n"
   ]
  },
  {
   "cell_type": "markdown",
   "id": "6f610e48",
   "metadata": {},
   "source": [
    "### According to the chart above, the average sale price has changed in a sense that \n",
    "### from 2018 to 2019, it saw a decline and from 2019 to 2020 it increased "
   ]
  },
  {
   "cell_type": "markdown",
   "id": "00b6b28d",
   "metadata": {},
   "source": [
    "\n",
    "\n",
    "\n",
    "# ANSWER FOR QUESTION 2"
   ]
  },
  {
   "cell_type": "code",
   "execution_count": 16,
   "id": "ab7b99ea",
   "metadata": {},
   "outputs": [
    {
     "name": "stdout",
     "output_type": "stream",
     "text": [
      "['Ford' 'Chevrolet' 'Mercedes-Benz' 'Toyota']\n",
      "            ID  pricesold  yearsold  Mileage           Make    Model  Year  \\\n",
      "0       137178       7500      2020    84430           Ford  Mustang  1988   \n",
      "3        80773      11600      2019    97200           Ford  Mustang  1968   \n",
      "19       59728      18550      2019     6714      Chevrolet   Camaro  2002   \n",
      "21       74812       4750      2019   151361           Ford    F-250  1978   \n",
      "34        8978       4600      2019   180000  Mercedes-Benz  S-Class  2003   \n",
      "...        ...        ...       ...      ...            ...      ...   ...   \n",
      "122125   11715       8600      2019    54000      Chevrolet   Impala  1958   \n",
      "122127    8426      27900      2019    80540           Ford    F-250  2002   \n",
      "122129   39969        200      2019    77195      Chevrolet     S-10  1985   \n",
      "122131   42098       3400      2019   247000         Toyota    Camry  2002   \n",
      "122135   87007       6700      2019    76413           Ford   Bronco  1979   \n",
      "\n",
      "                                  Trim                        Engine  \\\n",
      "0                                   LX                   5.0L Gas V8   \n",
      "3                                Stock                289 cu. in. V8   \n",
      "19                          Z28,SS,SLP                  5.7 liter v8   \n",
      "21                          Ranger XLT                           460   \n",
      "34                             S55 AMG  m1135 5.4 Liter Supercharged   \n",
      "...                                ...                           ...   \n",
      "122125                        Biscayne                         6 cyl   \n",
      "122127  7.3L Diesel  4x4 1owner Lariat              7.3 Turbo Diesel   \n",
      "122129                              LS                     V6 231Cid   \n",
      "122131                   Sport Edition                           2.4   \n",
      "122135                          Custom                        400 V8   \n",
      "\n",
      "                   BodyType  NumCylinders                   DriveType  \n",
      "0                     Sedan             0                         RWD  \n",
      "3                     Coupe             8                         RWD  \n",
      "19                    Coupe             8                         RWD  \n",
      "21      Standard Cab Pickup             8                         RWD  \n",
      "34                    Sedan             8                         RWD  \n",
      "...                     ...           ...                         ...  \n",
      "122125                 post             6                        rear  \n",
      "122127      Crew Cab Pickup             8  4WD-3.73 Limited Slip Axle  \n",
      "122129                  SUV             6                         4WD  \n",
      "122131             Mid-Size             4                         FWD  \n",
      "122135                  SUV             8                         4WD  \n",
      "\n",
      "[27635 rows x 12 columns]\n"
     ]
    }
   ],
   "source": [
    "#fetching Makes that sold the most (top 4)\n",
    "top_four_makes = used_cars_ii['Make'].value_counts().head(4)\n",
    "\n",
    "#Filtering dataset to get only the top four Makes\n",
    "top_four_filtered = used_cars_ii[used_cars_ii['Make'].isin(top_four_makes.index)]\n",
    "\n",
    "#top four makes\n",
    "print(top_four_filtered['Make'].unique())\n",
    "\n",
    "#final dataset with data from only top four makes\n",
    "print(top_four_filtered)"
   ]
  },
  {
   "cell_type": "markdown",
   "id": "d6aab8af",
   "metadata": {},
   "source": [
    "\n",
    "\n",
    "\n",
    "# VISUALIZATION"
   ]
  },
  {
   "cell_type": "code",
   "execution_count": 17,
   "id": "37598cd1",
   "metadata": {},
   "outputs": [
    {
     "name": "stdout",
     "output_type": "stream",
     "text": [
      "<function show at 0x000002A3F99235E0>\n"
     ]
    },
    {
     "data": {
      "image/png": "[encoded data removed]",
      "text/plain": [
       "<Figure size 640x480 with 4 Axes>"
      ]
     },
     "metadata": {},
     "output_type": "display_data"
    }
   ],
   "source": [
    "#creating separate scatter plots for each make, using subplots\n",
    "fig, axes = plt.subplots(2,2)\n",
    "\n",
    "\n",
    "#filtering and plotting for each Make individually\n",
    "make_ford = top_four_filtered[top_four_filtered['Make'] == 'Ford']\n",
    "make_chev = top_four_filtered[top_four_filtered['Make'] == 'Chevrolet']\n",
    "make_mercedes = top_four_filtered[top_four_filtered['Make'] == 'Mercedes-Benz']\n",
    "make_toyota = top_four_filtered[top_four_filtered['Make'] == 'Toyota']\n",
    "\n",
    "axes[0,0].scatter(make_ford['Mileage'], make_ford['pricesold'])\n",
    "axes[0,0].set_title('Ford - Mileage vs Sale Price')\n",
    "axes[0,0].set_xlabel('Mileage')\n",
    "axes[0,0].set_ylabel('Sale price')\n",
    "\n",
    "axes[0,1].scatter(make_chev['Mileage'], make_chev['pricesold'])\n",
    "axes[0,1].set_title('Chevrolet - Mileage vs Sale price')\n",
    "axes[0,1].set_xlabel('Mileage')\n",
    "axes[0,1].set_ylabel('Sale price')\n",
    "\n",
    "axes[1,0].scatter(make_mercedes['Mileage'], make_mercedes['pricesold'])\n",
    "axes[1,0].set_title('Mercedes-Benz - Mileage vs pricesold')\n",
    "axes[1,0].set_xlabel('Mileage')\n",
    "axes[1,0].set_ylabel('Sale price')\n",
    "\n",
    "axes[1,1].scatter(make_toyota['Mileage'], make_toyota['pricesold'])\n",
    "axes[1,1].set_title('Toyoya - Mileage vs pricesold')\n",
    "axes[1,1].set_xlabel('Mileage')\n",
    "axes[1,1].set_ylabel('Sale price')\n",
    "\n",
    "plt.tight_layout()\n",
    "print(plt.show)"
   ]
  },
  {
   "cell_type": "markdown",
   "id": "52369059",
   "metadata": {},
   "source": [
    "### According the the scatter plots above, \n",
    "### it looks like the higher the mileage of the vehicle, the lower the sale price \n",
    "### and the lower the mileage, the higher the sale price. "
   ]
  }
 ],
 "metadata": {
  "kernelspec": {
   "display_name": "Python 3 (ipykernel)",
   "language": "python",
   "name": "python3"
  },
  "language_info": {
   "codemirror_mode": {
    "name": "ipython",
    "version": 3
   },
   "file_extension": ".py",
   "mimetype": "text/x-python",
   "name": "python",
   "nbconvert_exporter": "python",
   "pygments_lexer": "ipython3",
   "version": "3.9.18"
  }
 },
 "nbformat": 4,
 "nbformat_minor": 5
}
